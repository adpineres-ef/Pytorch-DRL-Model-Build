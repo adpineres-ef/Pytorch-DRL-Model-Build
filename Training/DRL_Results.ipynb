{
 "cells": [
  {
   "cell_type": "code",
   "execution_count": null,
   "id": "40cf3355",
   "metadata": {},
   "outputs": [],
   "source": [
    "# Cell 1: Imports and Setup\n",
    "import pandas as pd\n",
    "import matplotlib.pyplot as plt\n",
    "import numpy as np\n",
    "\n",
    "# Matplotlib style (optional)\n",
    "plt.style.use('seaborn-v0_8-whitegrid')"
   ]
  },
  {
   "cell_type": "markdown",
   "id": "5602c094",
   "metadata": {},
   "source": [
    "# Cell 2: Title and Introduction\n",
    "\n",
    "# Analysis of Solution Methodologies for a Profit-Maximizing Vehicle Routing Problem Variant\n",
    "\n",
    "This notebook analyzes the performance of three distinct solution methodologies applied to a variant of the Vehicle Routing Problem (VRP). The primary focus is on maximizing profit for a single truck driver operating under constraints such as limited driving hours (54-66 hours per cycle) and the requirement to complete cyclical routes (starting and ending at the same depot).\n",
    "\n",
    "The methodologies compared are:\n",
    "1.  **Mixed-Integer Linear Programming (MILP):** Provides mathematically optimal solutions, serving as a benchmark for solution quality.\n",
    "2.  **Deep Reinforcement Learning (DRL):** A learning-based approach where an agent is trained to make sequential routing decisions to maximize cumulative reward. The specific DRL model used is [Your DRL Model Description, e.g., \"a Policy Gradient agent with a GNN Encoder and an LSTM-Attention based Actor\"].\n",
    "3.  **Greedy Heuristic:** A simpler, rule-based approach designed to emulate a human-like strategy of always choosing the \"best available deal.\" In this routing context, it means selecting the most immediately profitable (or best reward/time ratio) action from the current state.\n",
    "\n",
    "**Analysis Focus:**\n",
    "The core of this analysis revolves around the hypothesis that while the Heuristic represents a straightforward, understandable decision-making process, the DRL method can learn more complex and ultimately more profitable strategies. We aim to show:\n",
    "* The DRL method consistently outperforms the Heuristic.\n",
    "* The DRL method, while superior to the Heuristic, may not always reach the true global optimum found by MILP on smaller instances, highlighting areas for future improvement.\n",
    "* The DRL method offers a scalable solution for larger problem instances where MILP becomes computationally intractable.\n",
    "\n",
    "We will examine performance across various problem sizes (N=8, 10, 15, and later N=30, N=40 nodes) using metrics like solution quality (average reward), success rate, optimality gap, and computational time."
   ]
  },
  {
   "cell_type": "markdown",
   "id": "f06aa9cc",
   "metadata": {},
   "source": [
    "# Cell 3: Experimental Setup\n",
    "\n",
    "## Problem Instances\n",
    "Problem instances were generated for graph sizes of N = 8, 10, 15, 30, and 40 nodes.\n",
    "* **Time Matrix**: Generated with travel times generally between 2 and 15 hours, with slight asymmetry. Diagonal elements are zero.\n",
    "* **Reward Matrix**: Rewards range roughly from 50 to 500, with a loose inverse correlation to travel time plus random noise. Diagonal elements are zero (and penalized for DRL/Heuristic during training/decision-making to prevent staying at the same node).\n",
    "* **Constraints**: All routes must be cycles starting and ending at the same node. Total route duration must be between 54 and 66 hours (inclusive). Intermediate nodes cannot be revisited within a single route.\n",
    "\n",
    "## Solution Methodologies\n",
    "* **MILP**: Solved using the CBC solver via the PuLP library in Python.\n",
    "* **DRL**: [Reiterate your specific DRL model details, e.g., \"Policy Gradient with GNN Encoder and LSTM-Attention Actor, trained for X episodes for N=8, Y episodes for N=10, etc.\"].\n",
    "* **Greedy Heuristic**: At each step, selects the unvisited next node maximizing the reward-to-time ratio, respecting maximum duration. Attempts direct return if stuck or near max duration.\n",
    "\n",
    "## Performance Metrics\n",
    "* **Success Rate (%)**: Percentage of starting nodes for which a method found a valid route.\n",
    "* **Average Reward (Valid Routes)**: Average total reward for valid routes.\n",
    "* **Average Optimality Gap (%)**: `((MIP_Reward - Method_Reward) / MIP_Reward) * 100%` for DRL and Heuristic, on instances where MIP is optimal.\n",
    "* **DRL Training Time (s)**: Total time for DRL model training.\n",
    "* **Average Solve/Inference Time (s)**: Time per instance for MIP (solve), DRL (inference), and Heuristic (execution)."
   ]
  },
  {
   "cell_type": "code",
   "execution_count": null,
   "id": "33aa5a0f",
   "metadata": {},
   "outputs": [],
   "source": [
    "# Cell 4: Data Definition \n",
    "\n",
    "import pandas as pd\n",
    "import matplotlib.pyplot as plt\n",
    "import numpy as np\n",
    "\n",
    "# Matplotlib style (optional)\n",
    "plt.style.use('seaborn-v0_8-whitegrid')\n",
    "\n",
    "results_data = [\n",
    "    # N=8\n",
    "    {'N': 8, 'Method': 'MIP', 'Success Rate (%)': 100.0, 'Avg. Reward': 980.0, 'Optimality Gap (%)': np.nan, 'Avg. Time (s)': 0.221, 'DRL Train Time (s)': np.nan},\n",
    "    {'N': 8, 'Method': 'DRL', 'Success Rate (%)': 100.0, 'Avg. Reward': 602.2, 'Optimality Gap (%)': 38.5, 'Avg. Time (s)': 0.0000, 'DRL Train Time (s)': 636.62},\n",
    "    {'N': 8, 'Method': 'Heuristic', 'Success Rate (%)': 100.0, 'Avg. Reward': 352.9, 'Optimality Gap (%)': 64.0, 'Avg. Time (s)': 0.0000, 'DRL Train Time (s)': np.nan},\n",
    "\n",
    "    # N=10\n",
    "    {'N': 10, 'Method': 'MIP', 'Success Rate (%)': 100.0, 'Avg. Reward': 1449.0, 'Optimality Gap (%)': np.nan, 'Avg. Time (s)': 0.755, 'DRL Train Time (s)': np.nan},\n",
    "    {'N': 10, 'Method': 'DRL', 'Success Rate (%)': 100.0, 'Avg. Reward': 902.1, 'Optimality Gap (%)': 37.7, 'Avg. Time (s)': 0.0016, 'DRL Train Time (s)': 1647.54},\n",
    "    {'N': 10, 'Method': 'Heuristic', 'Success Rate (%)': 100.0, 'Avg. Reward': 477.0, 'Optimality Gap (%)': 67.1, 'Avg. Time (s)': 0.0000, 'DRL Train Time (s)': np.nan},\n",
    "\n",
    "    # N=15 (Corrected Gaps from previous, and now Corrected Times)\n",
    "    {'N': 15, 'Method': 'MIP', 'Success Rate (%)': 100.0, 'Avg. Reward': 3035.4, 'Optimality Gap (%)': np.nan, 'Avg. Time (s)': 5.811, 'DRL Train Time (s)': np.nan},\n",
    "    {'N': 15, 'Method': 'DRL', 'Success Rate (%)': 100.0, 'Avg. Reward': 1955.5, 'Optimality Gap (%)': 35.6, 'Avg. Time (s)': 0.0001, 'DRL Train Time (s)': 1228.15},\n",
    "    {'N': 15, 'Method': 'Heuristic', 'Success Rate (%)': 100.0, 'Avg. Reward': 1126.9, 'Optimality Gap (%)': 62.9, 'Avg. Time (s)': 0.0000, 'DRL Train Time (s)': np.nan},\n",
    "\n",
    "    # N=30 (Placeholders - replace with your actual data)\n",
    "    {'N': 30, 'Method': 'MIP', 'Success Rate (%)': np.nan, 'Avg. Reward': np.nan, 'Optimality Gap (%)': np.nan, 'Avg. Time (s)': np.nan, 'DRL Train Time (s)': np.nan},\n",
    "    {'N': 30, 'Method': 'DRL', 'Success Rate (%)': 0.0, 'Avg. Reward': 0.0, 'Optimality Gap (%)': np.nan, 'Avg. Time (s)': 0.0, 'DRL Train Time (s)': 0.0},\n",
    "    {'N': 30, 'Method': 'Heuristic', 'Success Rate (%)': 0.0, 'Avg. Reward': 0.0, 'Optimality Gap (%)': np.nan, 'Avg. Time (s)': 0.0, 'DRL Train Time (s)': np.nan},\n",
    "\n",
    "    # N=40 (Placeholders - replace with your actual data)\n",
    "    {'N': 40, 'Method': 'MIP', 'Success Rate (%)': np.nan, 'Avg. Reward': np.nan, 'Optimality Gap (%)': np.nan, 'Avg. Time (s)': np.nan, 'DRL Train Time (s)': np.nan},\n",
    "    {'N': 40, 'Method': 'DRL', 'Success Rate (%)': 0.0, 'Avg. Reward': 0.0, 'Optimality Gap (%)': np.nan, 'Avg. Time (s)': 0.0, 'DRL Train Time (s)': 0.0},\n",
    "    {'N': 40, 'Method': 'Heuristic', 'Success Rate (%)': 0.0, 'Avg. Reward': 0.0, 'Optimality Gap (%)': np.nan, 'Avg. Time (s)': 0.0, 'DRL Train Time (s)': np.nan},\n",
    "]\n",
    "\n",
    "df_results = pd.DataFrame(results_data)\n",
    "\n",
    "# For display, separate DRL training time\n",
    "df_display = df_results.set_index(['N', 'Method'])\n",
    "drl_train_times = df_display[df_display['DRL Train Time (s)'].notna()]['DRL Train Time (s)'].reset_index()[['N','DRL Train Time ("
   ]
  },
  {
   "cell_type": "markdown",
   "id": "d50955e8",
   "metadata": {},
   "source": [
    "# Cell 5: Analysis of Small Instances (N=8, 10, 15)\n",
    "\n",
    "This section presents the comparative performance of MILP, DRL, and the Heuristic for smaller graph sizes where MILP solutions are generally tractable."
   ]
  },
  {
   "cell_type": "code",
   "execution_count": null,
   "id": "c4add97e",
   "metadata": {},
   "outputs": [],
   "source": [
    "# Cell 6: Success Rate Analysis (Small Instances)\n",
    "df_small_instances = df_display.reset_index()\n",
    "df_small_instances = df_small_instances[df_small_instances['N'] <= 15]\n",
    "\n",
    "success_rate_table = df_small_instances.pivot(index='N', columns='Method', values='Success Rate (%)')\n",
    "print(\"Success Rate (%): Small Instances\")\n",
    "print(success_rate_table)"
   ]
  },
  {
   "cell_type": "markdown",
   "id": "c2ea58a3",
   "metadata": {},
   "source": [
    "**Observations on Success Rate (Small Instances):**\n",
    "For N=8, N=10, and N=15, all three methods (MILP, DRL, and Heuristic) achieved a 100% success rate in finding valid routes satisfying all constraints. This indicates that for these smaller problem sizes, finding *a* feasible solution is not the primary challenge."
   ]
  },
  {
   "cell_type": "code",
   "execution_count": null,
   "id": "34c05ca1",
   "metadata": {},
   "outputs": [],
   "source": [
    "# Cell 7: Solution Quality - Average Reward (Small Instances)\n",
    "avg_reward_table = df_small_instances.pivot(index='N', columns='Method', values='Avg. Reward')\n",
    "print(\"\\nAverage Reward (Valid Routes): Small Instances\")\n",
    "print(avg_reward_table)\n",
    "\n",
    "# Plotting Average Rewards\n",
    "fig_reward, ax_reward = plt.subplots(figsize=(10, 6))\n",
    "for method in avg_reward_table.columns:\n",
    "    ax_reward.plot(avg_reward_table.index, avg_reward_table[method], marker='o', label=method)\n",
    "ax_reward.set_xlabel(\"Problem Size (N Nodes)\")\n",
    "ax_reward.set_ylabel(\"Average Reward\")\n",
    "ax_reward.set_title(\"Average Reward vs. Problem Size (Small Instances)\")\n",
    "ax_reward.set_xticks(avg_reward_table.index) # Ensure N values are shown as ticks\n",
    "ax_reward.legend()\n",
    "plt.grid(True)\n",
    "plt.show()"
   ]
  },
  {
   "cell_type": "markdown",
   "id": "f4867023",
   "metadata": {},
   "source": [
    "**Observations on Average Reward (Small Instances):**\n",
    "* As expected, MILP consistently provides the highest average reward, representing the optimal solution for each problem size (N=8, N=10, N=15).\n",
    "* The DRL method consistently achieves higher average rewards than the Heuristic across all these small instances (N=8, N=10, and N=15). This supports the hypothesis that DRL can learn routing policies that are more effective than a simple greedy approach."
   ]
  },
  {
   "cell_type": "code",
   "execution_count": null,
   "id": "0f8d54c5",
   "metadata": {},
   "outputs": [],
   "source": [
    "# Cell 8: Optimality Gap Analysis (Small Instances)\n",
    "# Filter out MIP for optimality gap display, as it's the baseline (0% gap)\n",
    "optimality_gap_table = df_small_instances[df_small_instances['Method'] != 'MIP'].pivot(index='N', columns='Method', values='Optimality Gap (%)')\n",
    "print(\"\\nAverage Optimality Gap (% vs MILP): Small Instances\")\n",
    "print(optimality_gap_table)\n",
    "\n",
    "# Plotting Optimality Gaps\n",
    "if not optimality_gap_table.empty:\n",
    "    fig_gap, ax_gap = plt.subplots(figsize=(10, 6))\n",
    "    for method in optimality_gap_table.columns:\n",
    "        ax_gap.plot(optimality_gap_table.index, optimality_gap_table[method], marker='o', label=f\"{method} Gap\")\n",
    "    ax_gap.set_xlabel(\"Problem Size (N Nodes)\")\n",
    "    ax_gap.set_ylabel(\"Average Optimality Gap (%)\")\n",
    "    ax_gap.set_title(\"Optimality Gap vs. Problem Size (Small Instances)\")\n",
    "    ax_gap.set_xticks(optimality_gap_table.index)\n",
    "    ax_gap.legend()\n",
    "    plt.grid(True)\n",
    "    plt.show()\n",
    "else:\n",
    "    print(\"No data to plot for optimality gaps (e.g., if only MIP results were available).\")"
   ]
  },
  {
   "cell_type": "markdown",
   "id": "fdc5a4a1",
   "metadata": {},
   "source": [
    "**Observations on Computational Performance (Small Instances):**\n",
    "* DRL training is an offline cost. The training times for N=8 (636.62s), N=10 (1647.54s), and N=15 (1228.15s) are substantial, reflecting the complexity of learning effective policies. The variation between N=10 and N=15 training times might be due to factors like differences in convergence speed for those particular instance complexities or random seeds influencing the training trajectory.\n",
    "* MILP solve times show a clear and significant increase with problem size: N=8 (0.221s), N=10 (0.755s), and N=15 (5.811s). This highlights the characteristic exponential growth in computational effort for exact methods and anticipates the challenges in scaling MILP to larger instances.\n",
    "* DRL inference times and Heuristic execution times are extremely fast (fractions of a millisecond per instance) across all these small problem sizes. This makes them highly suitable for scenarios requiring rapid route generation, assuming the DRL model has already been trained."
   ]
  },
  {
   "cell_type": "code",
   "execution_count": null,
   "id": "dfec7892",
   "metadata": {},
   "outputs": [],
   "source": [
    "# Cell 9: Computational Performance (Small Instances)\n",
    "# Avg. Time (s) is per instance for MIP, DRL (inference), Heuristic\n",
    "# DRL Train Time (s) is total for that N\n",
    "\n",
    "time_table_solve = df_small_instances.pivot(index='N', columns='Method', values='Avg. Time (s)')\n",
    "print(\"\\nAverage Solve/Inference Time per Instance (s): Small Instances\")\n",
    "print(time_table_solve)\n",
    "\n",
    "print(\"\\nDRL Training Times (Total):\")\n",
    "print(drl_train_times[drl_train_times['N'] <= 15].set_index('N'))\n",
    "\n",
    "\n",
    "# Plotting Solve/Inference Times\n",
    "fig_time, ax_time = plt.subplots(figsize=(10, 6))\n",
    "for method in time_table_solve.columns:\n",
    "    ax_time.plot(time_table_solve.index, time_table_solve[method], marker='o', label=f\"{method} Solve/Infer\")\n",
    "\n",
    "# Plot DRL Training time on a secondary y-axis if scales are very different, or separately\n",
    "# For simplicity here, we'll plot them on the same, but a log scale might be needed for MIP later.\n",
    "ax_time.set_xlabel(\"Problem Size (N Nodes)\")\n",
    "ax_time.set_ylabel(\"Average Time (s)\")\n",
    "ax_time.set_title(\"Computational Time vs. Problem Size (Small Instances)\")\n",
    "ax_time.set_xticks(time_table_solve.index)\n",
    "# ax_time.set_yscale('log') # Consider if MIP times grow very large\n",
    "ax_time.legend()\n",
    "plt.grid(True)\n",
    "plt.show()"
   ]
  },
  {
   "cell_type": "markdown",
   "id": "497f51ac",
   "metadata": {},
   "source": [
    "**Observations on Computational Performance (Small Instances):**\n",
    "* DRL training is an offline cost. **The DRL training time for N=15 (3.96s) appears anomalously low compared to N=8 (636s) and N=10 (1647s) and needs verification.** Assuming the N=8 and N=10 training times are representative, they show an increase with problem size, which is expected.\n",
    "* MILP solve times, while fast for N=8 (0.221s) and N=10 (0.755s), exhibit a substantial increase for N=15 (6.505s). This illustrates the exponential complexity common to exact methods and foreshadows scalability challenges for larger instances.\n",
    "* DRL inference times and Heuristic execution times are extremely fast (near zero for these small instances), making them highly suitable for scenarios requiring quick route generation once the DRL model is trained."
   ]
  },
  {
   "cell_type": "markdown",
   "id": "6be21fdb",
   "metadata": {},
   "source": [
    "# Overall Discussion\n",
    "\n",
    "**Key Findings:**\n",
    "\n",
    "1.  **DRL Outperforms Simple Greedy Heuristics:** Across the evaluated problem sizes (N=8, N=10, and potentially N=30, N=40 once data is available), the DRL approach consistently generated routes with higher average rewards compared to the greedy Heuristic. This suggests that the DRL agent successfully learns complex decision-making policies that go beyond myopic, immediate best choices, which is characteristic of the \"human-like\" greedy approach we aimed to emulate with the Heuristic.\n",
    "\n",
    "2.  **DRL's Gap to Optimality (MIP):** For smaller instances where optimal solutions could be found via MILP (N=8, N=10), the DRL method, while effective, did not consistently reach the global optimum. The optimality gap observed (around 38%) indicates that while the learned policy is good, there's room for improvement in the DRL model's architecture, training process, or hyperparameter tuning to push its solutions closer to theoretical bests. *(The anomalous N=15 result where the Heuristic appeared better than DRL in terms of optimality gap needs to be addressed here based on verified data. If the anomaly holds, it points to specific limitations or conditions where the current DRL struggles).*\n",
    "\n",
    "3.  **Scalability and Practicality:**\n",
    "    * MILP, while providing optimal solutions, shows a rapid increase in solution time with problem size, rendering it impractical for larger, real-world scenarios.\n",
    "    * Both DRL (inference) and the Heuristic offer extremely fast route generation times. The significant offline training investment for DRL pays off by enabling quick deployment for many instances.\n",
    "    * Given DRL's superior solution quality over the Heuristic and its fast inference speed, it presents a promising approach for larger instances where MILP is not feasible. The key advantage would be achieving significantly better solutions than simple heuristics within practical time constraints.\n",
    "\n",
    "**Limitations:**\n",
    "* The current DRL model's performance might be sensitive to hyperparameter choices and the specifics of the training data distribution.\n",
    "* The \"optimality gap\" for larger instances (N=30, N=40) cannot be precisely measured without MILP solutions, so comparisons are primarily against the Heuristic.\n",
    "* *(Address any other limitations observed, e.g., consistency of DRL performance, impact of the N=15 anomaly if confirmed).*\n",
    "\n",
    "**Future Work:**\n",
    "* Exploration of more advanced DRL architectures (e.g., different GNN layers, more sophisticated attention mechanisms, Actor-Critic models like A2C/A3C or PPO).\n",
    "* Extensive hyperparameter optimization for the DRL model.\n",
    "* Investigating transfer learning: training a model on smaller instances and fine-tuning for larger ones, or training on a distribution of problem sizes.\n",
    "* Incorporating more complex real-world constraints into the DRL environment."
   ]
  }
 ],
 "metadata": {
  "language_info": {
   "name": "python"
  }
 },
 "nbformat": 4,
 "nbformat_minor": 5
}
