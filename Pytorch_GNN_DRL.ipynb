{
  "nbformat": 4,
  "nbformat_minor": 0,
  "metadata": {
    "colab": {
      "provenance": [],
      "authorship_tag": "ABX9TyMy0d34eeh3eT5bGf/g3HSR",
      "include_colab_link": true
    },
    "kernelspec": {
      "name": "python3",
      "display_name": "Python 3"
    },
    "language_info": {
      "name": "python"
    }
  },
  "cells": [
    {
      "cell_type": "markdown",
      "metadata": {
        "id": "view-in-github",
        "colab_type": "text"
      },
      "source": [
        "<a href=\"https://colab.research.google.com/github/adpineres-ef/Pytorch-DRL-Model-Build/blob/main/Pytorch_GNN_DRL.ipynb\" target=\"_parent\"><img src=\"https://colab.research.google.com/assets/colab-badge.svg\" alt=\"Open In Colab\"/></a>"
      ]
    },
    {
      "cell_type": "code",
      "source": [
        "!pip install torch-geometric"
      ],
      "metadata": {
        "colab": {
          "base_uri": "https://localhost:8080/"
        },
        "id": "1GWcM_UyQ4RL",
        "outputId": "39695547-a800-4000-8fd6-c6868fae2373"
      },
      "execution_count": 2,
      "outputs": [
        {
          "output_type": "stream",
          "name": "stdout",
          "text": [
            "Collecting torch-geometric\n",
            "  Downloading torch_geometric-2.5.3-py3-none-any.whl (1.1 MB)\n",
            "\u001b[2K     \u001b[90m━━━━━━━━━━━━━━━━━━━━━━━━━━━━━━━━━━━━━━━━\u001b[0m \u001b[32m1.1/1.1 MB\u001b[0m \u001b[31m6.3 MB/s\u001b[0m eta \u001b[36m0:00:00\u001b[0m\n",
            "\u001b[?25hRequirement already satisfied: tqdm in /usr/local/lib/python3.10/dist-packages (from torch-geometric) (4.66.2)\n",
            "Requirement already satisfied: numpy in /usr/local/lib/python3.10/dist-packages (from torch-geometric) (1.25.2)\n",
            "Requirement already satisfied: scipy in /usr/local/lib/python3.10/dist-packages (from torch-geometric) (1.11.4)\n",
            "Requirement already satisfied: fsspec in /usr/local/lib/python3.10/dist-packages (from torch-geometric) (2023.6.0)\n",
            "Requirement already satisfied: jinja2 in /usr/local/lib/python3.10/dist-packages (from torch-geometric) (3.1.3)\n",
            "Requirement already satisfied: aiohttp in /usr/local/lib/python3.10/dist-packages (from torch-geometric) (3.9.5)\n",
            "Requirement already satisfied: requests in /usr/local/lib/python3.10/dist-packages (from torch-geometric) (2.31.0)\n",
            "Requirement already satisfied: pyparsing in /usr/local/lib/python3.10/dist-packages (from torch-geometric) (3.1.2)\n",
            "Requirement already satisfied: scikit-learn in /usr/local/lib/python3.10/dist-packages (from torch-geometric) (1.2.2)\n",
            "Requirement already satisfied: psutil>=5.8.0 in /usr/local/lib/python3.10/dist-packages (from torch-geometric) (5.9.5)\n",
            "Requirement already satisfied: aiosignal>=1.1.2 in /usr/local/lib/python3.10/dist-packages (from aiohttp->torch-geometric) (1.3.1)\n",
            "Requirement already satisfied: attrs>=17.3.0 in /usr/local/lib/python3.10/dist-packages (from aiohttp->torch-geometric) (23.2.0)\n",
            "Requirement already satisfied: frozenlist>=1.1.1 in /usr/local/lib/python3.10/dist-packages (from aiohttp->torch-geometric) (1.4.1)\n",
            "Requirement already satisfied: multidict<7.0,>=4.5 in /usr/local/lib/python3.10/dist-packages (from aiohttp->torch-geometric) (6.0.5)\n",
            "Requirement already satisfied: yarl<2.0,>=1.0 in /usr/local/lib/python3.10/dist-packages (from aiohttp->torch-geometric) (1.9.4)\n",
            "Requirement already satisfied: async-timeout<5.0,>=4.0 in /usr/local/lib/python3.10/dist-packages (from aiohttp->torch-geometric) (4.0.3)\n",
            "Requirement already satisfied: MarkupSafe>=2.0 in /usr/local/lib/python3.10/dist-packages (from jinja2->torch-geometric) (2.1.5)\n",
            "Requirement already satisfied: charset-normalizer<4,>=2 in /usr/local/lib/python3.10/dist-packages (from requests->torch-geometric) (3.3.2)\n",
            "Requirement already satisfied: idna<4,>=2.5 in /usr/local/lib/python3.10/dist-packages (from requests->torch-geometric) (3.7)\n",
            "Requirement already satisfied: urllib3<3,>=1.21.1 in /usr/local/lib/python3.10/dist-packages (from requests->torch-geometric) (2.0.7)\n",
            "Requirement already satisfied: certifi>=2017.4.17 in /usr/local/lib/python3.10/dist-packages (from requests->torch-geometric) (2024.2.2)\n",
            "Requirement already satisfied: joblib>=1.1.1 in /usr/local/lib/python3.10/dist-packages (from scikit-learn->torch-geometric) (1.4.0)\n",
            "Requirement already satisfied: threadpoolctl>=2.0.0 in /usr/local/lib/python3.10/dist-packages (from scikit-learn->torch-geometric) (3.4.0)\n",
            "Installing collected packages: torch-geometric\n",
            "Successfully installed torch-geometric-2.5.3\n"
          ]
        }
      ]
    },
    {
      "cell_type": "code",
      "execution_count": 3,
      "metadata": {
        "id": "POD_ul-y8XJ8"
      },
      "outputs": [],
      "source": [
        "import torch\n",
        "import torch.nn as nn\n",
        "import torch.optim as optim\n",
        "import torch.nn.functional as F\n",
        "from torch_geometric.data import Data, DataLoader\n",
        "from torch.distributions import Categorical\n",
        "import numpy as np\n",
        "import pandas as pd"
      ]
    },
    {
      "cell_type": "code",
      "source": [
        "from google.colab import files\n",
        "# Specify the file name\n",
        "file_name1 = \"test_profit_matrix.xlsx\"\n",
        "file_name2 = \"test_time_matrix.xlsx\"\n",
        "file_name3 = \"test_markov_matrix.xlsx\"\n",
        "# Read the Excel file into a DataFrame\n",
        "reward_matrix = pd.read_excel(file_name1,header= None)\n",
        "time_matrix = pd.read_excel(file_name2,header = None)\n",
        "markov_matrix = pd.read_excel(file_name3,header=None)\n",
        "initial_node = 0\n",
        "time_limit = 35"
      ],
      "metadata": {
        "id": "nntuW_-Z8fpo"
      },
      "execution_count": 5,
      "outputs": []
    },
    {
      "cell_type": "code",
      "source": [
        "edges = [(0, 1), (0, 2), (0, 3), (0, 4), (0, 5), (0, 6),\n",
        "         (1, 2), (1, 3), (1, 4), (1, 5), (1, 6),\n",
        "         (2, 3), (2, 4), (2, 5), (2, 6),\n",
        "         (3, 4), (3, 5), (3, 6),\n",
        "         (4, 5), (4, 6),\n",
        "         (5, 6)]\n",
        "\n",
        "# Convert edge list to PyTorch LongTensor\n",
        "edges = torch.tensor(edges, dtype=torch.long).t().contiguous()\n",
        "\n",
        "# Construct the edge index (COO format)\n",
        "edge_index = torch.cat([edges, edges.flip(0)], dim=1)\n",
        "\n",
        "# Convert edge weights from the Markov matrix to PyTorch tensor\n",
        "edge_weight = torch.tensor(markov_matrix.values, dtype=torch.float32)\n",
        "\n",
        "# Create the graph data object with edge weights\n",
        "graph_data = Data(x=None, edge_index=edge_index, edge_weight=edge_weight)"
      ],
      "metadata": {
        "id": "E3p4ojHhTP_r"
      },
      "execution_count": 8,
      "outputs": []
    },
    {
      "cell_type": "code",
      "source": [
        "class GraphEnvironment:\n",
        "    def __init__(self, reward_matrix, time_matrix, markov_matrix, initial_node, time_limit):\n",
        "        self.reward_matrix = reward_matrix\n",
        "        self.time_matrix = time_matrix\n",
        "        self.markov_matrix = markov_matrix\n",
        "        self.initial_node = initial_node\n",
        "        self.time_limit = time_limit\n",
        "\n",
        "        self.num_nodes = reward_matrix.shape[0]\n",
        "        self.edge_index = self.generate_edge_index()\n",
        "\n",
        "    def generate_edge_index(self):\n",
        "        edges = []\n",
        "        for i in range(self.num_nodes):\n",
        "            for j in range(self.num_nodes):\n",
        "                if i != j:\n",
        "                    edges.append((i, j))\n",
        "        edge_index = torch.tensor(edges, dtype=torch.long).t().contiguous()\n",
        "        return edge_index\n",
        "\n",
        "    def reset(self):\n",
        "        self.current_node = self.initial_node\n",
        "        self.remaining_time = self.time_limit\n",
        "        self.visited_nodes = [self.initial_node]\n",
        "        self.visited_edges = []\n",
        "        self.total_reward = 0\n",
        "        return self.get_state()\n",
        "\n",
        "    def get_state(self):\n",
        "        return torch.tensor([self.current_node, self.remaining_time], dtype=torch.float32)\n",
        "\n",
        "    def step(self, action):\n",
        "        next_node = action.item()\n",
        "        edge = (self.current_node, next_node)\n",
        "        if edge not in self.visited_edges:\n",
        "            self.visited_edges.append(edge)\n",
        "            reward = self.reward_matrix[self.current_node, next_node]\n",
        "            time_consumption = self.time_matrix[self.current_node, next_node]\n",
        "            self.total_reward += reward\n",
        "            self.remaining_time -= time_consumption\n",
        "            self.current_node = next_node\n",
        "            self.visited_nodes.append(next_node)\n",
        "            done = (self.remaining_time <= 0) or (len(self.visited_nodes) == self.num_nodes and self.current_node == self.initial_node)\n",
        "            if done:\n",
        "                return self.get_state(), reward, done, {}\n",
        "            else:\n",
        "                return self.get_state(), reward, done, {}\n",
        "        else:\n",
        "            return self.get_state(), 0, False, {}\n"
      ],
      "metadata": {
        "id": "mT9uYww_QUR7"
      },
      "execution_count": 6,
      "outputs": []
    },
    {
      "cell_type": "code",
      "source": [
        "from torch_geometric.nn import GATConv\n",
        "class QNetwork(nn.Module):\n",
        "    def __init__(self, input_dim, hidden_dim, num_edges):\n",
        "        super(QNetwork, self).__init__()\n",
        "        self.conv1 = GATConv(input_dim, hidden_dim, heads=1, dropout=0.6)\n",
        "        self.conv2 = GATConv(hidden_dim, hidden_dim, heads=1, dropout=0.6)\n",
        "        self.fc1 = nn.Linear(hidden_dim, hidden_dim)\n",
        "        self.fc2 = nn.Linear(hidden_dim, num_edges)\n",
        "\n",
        "    def forward(self, data):\n",
        "        x, edge_index, edge_weight = data.x, data.edge_index, data.edge_weight\n",
        "        x = F.relu(self.conv1(x, edge_index, edge_weight=edge_weight))\n",
        "        x = F.relu(self.conv2(x, edge_index, edge_weight=edge_weight))\n",
        "        x = x.mean(dim=0)  # Global pooling to obtain a single vector representation\n",
        "        x = F.relu(self.fc1(x))\n",
        "        x = self.fc2(x)\n",
        "        return x"
      ],
      "metadata": {
        "id": "b8MhJveYRKk7"
      },
      "execution_count": 7,
      "outputs": []
    },
    {
      "cell_type": "code",
      "source": [
        "import torch.optim as optim\n",
        "import random\n",
        "# Define hyperparameters\n",
        "learning_rate = 0.001\n",
        "num_epochs = 10\n",
        "batch_size = 64\n",
        "gamma = 0.99\n",
        "num_edges = len(edges)\n",
        "epsilon = 0.1  # Epsilon value for epsilon-greedy policy\n",
        "# Initialize QNetwork\n",
        "model = QNetwork(input_dim=2, hidden_dim=128, num_edges=num_edges)\n",
        "# Define optimizer\n",
        "optimizer = optim.Adam(model.parameters(), lr=learning_rate)\n",
        "\n",
        "# Define loss function (mean squared error)\n",
        "loss_fn = nn.MSELoss()"
      ],
      "metadata": {
        "id": "_l4ngcznTSN5"
      },
      "execution_count": 11,
      "outputs": []
    },
    {
      "cell_type": "code",
      "source": [
        "env = GraphEnvironment(reward_matrix, time_matrix, markov_matrix, initial_node, time_limit)\n",
        "# Start training loop\n",
        "for epoch in range(num_epochs):\n",
        "    # Reset environment\n",
        "    state = env.reset()\n",
        "    done = False\n",
        "    total_reward = 0\n",
        "\n",
        "    # Collect data for one episode\n",
        "    while not done:\n",
        "        # Get Q-values for the current state\n",
        "        q_values = model(state)\n",
        "\n",
        "        # Select action using epsilon-greedy policy\n",
        "        if random.random() < epsilon:\n",
        "            # Select a random action\n",
        "            action = random.randint(0, len(q_values) - 1)\n",
        "        else:\n",
        "            # Select the action with the highest Q-value\n",
        "            action = torch.argmax(q_values).item()\n",
        "\n",
        "        # Perform action and observe next state and reward\n",
        "        next_state, reward, done, _ = env.step(action)\n",
        "\n",
        "        # Compute target Q-value\n",
        "        with torch.no_grad():\n",
        "            target_q = reward + gamma * torch.max(model(next_state))\n",
        "\n",
        "        # Compute predicted Q-value\n",
        "        predicted_q = model(state)\n",
        "\n",
        "        # Compute loss\n",
        "        loss = loss_fn(predicted_q, target_q)\n",
        "\n",
        "        # Perform gradient descent step\n",
        "        optimizer.zero_grad()\n",
        "        loss.backward()\n",
        "        optimizer.step()\n",
        "\n",
        "        # Update state and total reward\n",
        "        state = next_state\n",
        "        total_reward += reward\n",
        "\n",
        "    # Print total reward for the epoch\n",
        "    print(f\"Epoch {epoch + 1}, Total Reward: {total_reward}\")"
      ],
      "metadata": {
        "colab": {
          "base_uri": "https://localhost:8080/",
          "height": 211
        },
        "id": "SgbwXH4DVCs6",
        "outputId": "13441fa6-ac48-482b-dd58-4a70e9eb9aeb"
      },
      "execution_count": 12,
      "outputs": [
        {
          "output_type": "error",
          "ename": "TypeError",
          "evalue": "GraphEnvironment.__init__() missing 4 required positional arguments: 'time_matrix', 'markov_matrix', 'initial_node', and 'time_limit'",
          "traceback": [
            "\u001b[0;31m---------------------------------------------------------------------------\u001b[0m",
            "\u001b[0;31mTypeError\u001b[0m                                 Traceback (most recent call last)",
            "\u001b[0;32m<ipython-input-12-4e836cc1cc1b>\u001b[0m in \u001b[0;36m<cell line: 1>\u001b[0;34m()\u001b[0m\n\u001b[0;32m----> 1\u001b[0;31m \u001b[0menv\u001b[0m \u001b[0;34m=\u001b[0m \u001b[0mGraphEnvironment\u001b[0m\u001b[0;34m(\u001b[0m\u001b[0mgraph_data\u001b[0m\u001b[0;34m)\u001b[0m\u001b[0;34m\u001b[0m\u001b[0;34m\u001b[0m\u001b[0m\n\u001b[0m\u001b[1;32m      2\u001b[0m \u001b[0;31m# Start training loop\u001b[0m\u001b[0;34m\u001b[0m\u001b[0;34m\u001b[0m\u001b[0m\n\u001b[1;32m      3\u001b[0m \u001b[0;32mfor\u001b[0m \u001b[0mepoch\u001b[0m \u001b[0;32min\u001b[0m \u001b[0mrange\u001b[0m\u001b[0;34m(\u001b[0m\u001b[0mnum_epochs\u001b[0m\u001b[0;34m)\u001b[0m\u001b[0;34m:\u001b[0m\u001b[0;34m\u001b[0m\u001b[0;34m\u001b[0m\u001b[0m\n\u001b[1;32m      4\u001b[0m     \u001b[0;31m# Reset environment\u001b[0m\u001b[0;34m\u001b[0m\u001b[0;34m\u001b[0m\u001b[0m\n\u001b[1;32m      5\u001b[0m     \u001b[0mstate\u001b[0m \u001b[0;34m=\u001b[0m \u001b[0menv\u001b[0m\u001b[0;34m.\u001b[0m\u001b[0mreset\u001b[0m\u001b[0;34m(\u001b[0m\u001b[0;34m)\u001b[0m\u001b[0;34m\u001b[0m\u001b[0;34m\u001b[0m\u001b[0m\n",
            "\u001b[0;31mTypeError\u001b[0m: GraphEnvironment.__init__() missing 4 required positional arguments: 'time_matrix', 'markov_matrix', 'initial_node', and 'time_limit'"
          ]
        }
      ]
    },
    {
      "cell_type": "code",
      "source": [
        "# Image Classifier Neural Network\n",
        "class RoutingModule(nn.Module):\n",
        "    def __init__(self):\n",
        "        super().__init__()\n",
        "        self.model = nn.Sequential(\n",
        "            nn.Conv2d(1, 32, (3,3)),\n",
        "            nn.ReLU(),\n",
        "            nn.Conv2d(32, 64, (3,3)),\n",
        "            nn.ReLU(),\n",
        "            nn.Conv2d(64, 64, (3,3)),\n",
        "            nn.ReLU(),\n",
        "            nn.Flatten(),\n",
        "            nn.Linear(64*(28-6)*(28-6), 10)\n",
        "        )\n",
        "\n",
        "    def forward(self, x):\n",
        "        return self.model(x)\n",
        "\n",
        "# Instance of the neural network, loss, optimizer\n",
        "clf = ImageClassifier().to('cuda')\n",
        "opt = Adam(clf.parameters(), lr=1e-3)\n",
        "loss_fn = nn.CrossEntropyLoss()"
      ],
      "metadata": {
        "id": "nOevYsq-L0cE"
      },
      "execution_count": null,
      "outputs": []
    }
  ]
}